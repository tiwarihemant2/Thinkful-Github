{
 "cells": [
  {
   "cell_type": "markdown",
   "metadata": {},
   "source": [
    "# What is this thing Called Jupyter?\n",
    "\n",
    "We've been throwing around a bunch of new terms: Python, Colaboratory, Jupyter. Right now, let's bring some clarity to what *Jupyter* is.\n",
    "\n",
    "You're presently looking at a Jupyter notebook that we've embedded in our curriculum app. You could view this same Jupyter notebook on Google Colaboratory.  \n",
    "\n",
    "This is your first notebook. Since we're going to use notebooks throughout our sequence of Python modules, we wanted to take a moment to introduce them, some of their features, and a few keys and tricks to make sure you're getting the most out of them.\n",
    "\n",
    "## Cells\n",
    "\n",
    "Notebooks are divided into cells. Cells can contain written text like this one. Or they can provide an interface for writing and executing Python code. Below is an empty cell. Try typing `print('hello world!')` in this cell, then clicking the *Run* button at the top of this notebook:"
   ]
  },
  {
   "cell_type": "code",
   "execution_count": 7,
   "metadata": {},
   "outputs": [
    {
     "name": "stdout",
     "output_type": "stream",
     "text": [
      "Hello world from Jupyter notebooks\n"
     ]
    }
   ],
   "source": [
    "print('Hello world from Jupyter notebooks')"
   ]
  },
  {
   "cell_type": "markdown",
   "metadata": {},
   "source": [
    "Now try replacing `print('hello world')` with `2 + 2` and then re-execute the cell. What happens?\n",
    "\n",
    "\n",
    "After a cell gets executed, any variables it creates are accessible in other cells. Below, we create a variable called `message` and set its value to a string value.\n"
   ]
  },
  {
   "cell_type": "code",
   "execution_count": 5,
   "metadata": {},
   "outputs": [],
   "source": [
    "message = 'Hello! This string is stored in the variable \"message\"'"
   ]
  },
  {
   "cell_type": "markdown",
   "metadata": {},
   "source": [
    "Execute the cell above, but this time instead of pressing the *Run* button, use the keyboard shortcut to execute a cell. Press <kbd>shift</kbd> and <kbd>enter</kbd> when the cell is highlighted.\n",
    "\n",
    "Now we can reference `message` in our next cell. Execute the cell below to print `message`."
   ]
  },
  {
   "cell_type": "code",
   "execution_count": 6,
   "metadata": {},
   "outputs": [
    {
     "name": "stdout",
     "output_type": "stream",
     "text": [
      "Hello! This string is stored in the variable \"message\"\n"
     ]
    }
   ],
   "source": [
    "print(message)"
   ]
  },
  {
   "cell_type": "markdown",
   "metadata": {},
   "source": [
    "Cells can be selected in two ways. First, a cell is highlighted but inactive if there is a box around the cell (usually in green) but no cursor. If there is a cursor then the cell is active and you can input into it.\n",
    "\n",
    "A notebook can have any number of cells you need. There are several ways to add cells. When you run the last cell in your notebook a new cell is automatically added below. Also, if you have a cell highlighted but inactive, you can add a cell above or below by typing <kbd>a</kbd> or <kbd>b</kbd> respectively. To delete a cell double-tap <kbd>d</kbd>.\n",
    "\n",
    "Now, every notebook runs in a single Python environment.\n",
    "\n",
    "That means a couple of things. Firstly, the code is executed in the order you execute it in. Variables and functions and the like are stored for the whole notebook. So `message` still means something even here."
   ]
  },
  {
   "cell_type": "markdown",
   "metadata": {},
   "source": [
    "You can also get into trouble with this. If you change code in your cell and run it multiple times you can change the variables or outputs in a way you don't intend. Same thing if you run cells out of order. That's why it's __VERY IMPORTANT__ that you keep all of your code ordered and runable.\n",
    "\n",
    "Basically what this means is that you should be able to restart your notebook and run every cell in order to get to the result you want. If you have to run things out of order or rerun cells, that's likely going to cause problems both for you and anyone else reading your code. If you get confused about what was executed in what order it can be useful to re-run everything from scratch by selecting the \"Kernel\" menu above and choosing \"Restart and run all\". This will basically reboot and rerun your entire notebook from top to bottom.\n",
    "\n",
    "Use cells intelligently throughout your notebook. Many people think of a cell as a step. You should use a cell to write a function or run a model,  but don't try to do too much in a single cell. Keep it simple and your code will be more modular and easier to read and reuse."
   ]
  },
  {
   "cell_type": "markdown",
   "metadata": {},
   "source": [
    "## Markdown\n",
    "\n",
    "So far we've only talked about code cells, but there are other kinds of cells as well. The main other kind of cell you should know about is **markdown**. This cell is actually a markdown cell. You can double click it to see and edit the raw markdown, then run the cell again to see the markdown rendered.\n",
    "\n",
    "When you're using notebooks to write reports, you want to be able to include prose that isn't very appropriate for code comments. Markdown is useful for this.\n",
    "\n",
    "By default every new cell is a code cell. To convert a cell to markdown, highlight the cell, make sure it's inactive, and type 'm'. It's that simple.\n",
    "\n",
    "Jupyter supports full markdown so you can do all sorts of things, like\n",
    "\n",
    "_Italics_\n",
    "\n",
    "__Bold__\n",
    "\n",
    "# Big Headers\n",
    "\n",
    "#### And small headers\n",
    "\n",
    "both `inline` code\n",
    "\n",
    "```python\n",
    "# And syntax-highlighted\n",
    "multiline()\n",
    "codeblock = \"samples\"\n",
    "```\n",
    "\n",
    "Embedded HTML like <kbd>key</kbd> tags and <span style=\"color:red;\">tags with custom CSS</span>.\n",
    "\n",
    "And LaTeX style equations: $e^{i\\pi} + 1 = 0$\n",
    "\n",
    "Probably most usefully, you have [links](http://jupyter-notebook.readthedocs.io/en/latest/notebook.html).\n",
    "\n",
    "That link above is the nice and readable documentation for Jupyter. It's worth looking through if you have any further questions about notebooks. For more detail on markdown specifically, [see here](http://jupyter-notebook.readthedocs.io/en/latest/examples/Notebook/Working%20With%20Markdown%20Cells.html). "
   ]
  },
  {
   "cell_type": "markdown",
   "metadata": {},
   "source": [
    "That should be enough to get you started with Jupyter. If you have any questions after reading [the docs](http://jupyter-notebook.readthedocs.io/en/latest/notebook.html), follow up with your support network!"
   ]
  }
 ],
 "metadata": {
  "kernelspec": {
   "display_name": "Python 3",
   "language": "python",
   "name": "python3"
  },
  "language_info": {
   "codemirror_mode": {
    "name": "ipython",
    "version": 3
   },
   "file_extension": ".py",
   "mimetype": "text/x-python",
   "name": "python",
   "nbconvert_exporter": "python",
   "pygments_lexer": "ipython3",
   "version": "3.7.4"
  }
 },
 "nbformat": 4,
 "nbformat_minor": 2
}
